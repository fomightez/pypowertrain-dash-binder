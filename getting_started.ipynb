{
 "cells": [
  {
   "cell_type": "code",
   "execution_count": 1,
   "id": "e3aa1b35-529c-420b-9af4-552a91008265",
   "metadata": {},
   "outputs": [],
   "source": [
    "from pypowertrain.components.battery import Battery, define_battery_limits\n",
    "from pypowertrain.components.actuator import Actuator\n",
    "from pypowertrain.system import System, system_dash\n",
    "from pypowertrain.library import grin, odrive\n"
   ]
  },
  {
   "cell_type": "code",
   "execution_count": 2,
   "id": "07f17f76-15ec-422b-8736-c666a54654d3",
   "metadata": {},
   "outputs": [],
   "source": [
    "system = System(\n",
    "    actuator=Actuator(\n",
    "        motor=grin.all_axle(turns=5),\n",
    "        controller=odrive.pro()\n",
    "    ),\n",
    "    battery=define_battery_limits(v=58, wh=500)\n",
    ")"
   ]
  },
  {
   "cell_type": "code",
   "execution_count": 3,
   "id": "18eb682f-1382-432a-99f3-6edd3479219a",
   "metadata": {},
   "outputs": [
    {
     "name": "stdout",
     "output_type": "stream",
     "text": [
      "https://hub.binder.curvenote.dev//user/eelcohoogendoorn-pypowertrain-3nk17dlo/proxy/8050/\n"
     ]
    }
   ],
   "source": [
    "import os\n",
    "prefix = os.environ['JUPYTERHUB_SERVICE_PREFIX'] + 'proxy/8050/'\n",
    "url = 'https://hub.binder.curvenote.dev/' + prefix\n",
    "print(url)"
   ]
  },
  {
   "cell_type": "code",
   "execution_count": 4,
   "id": "797f8e49-105b-4d0f-837d-7411f8df3164",
   "metadata": {},
   "outputs": [
    {
     "data": {
      "text/html": [
       "\n",
       "        <iframe\n",
       "            width=\"100%\"\n",
       "            height=\"650\"\n",
       "            src=\"http://127.0.0.1:8050/user/eelcohoogendoorn-pypowertrain-3nk17dlo/proxy/8050/\"\n",
       "            frameborder=\"0\"\n",
       "            allowfullscreen\n",
       "            \n",
       "        ></iframe>\n",
       "        "
      ],
      "text/plain": [
       "<IPython.lib.display.IFrame at 0x7f0eb849de50>"
      ]
     },
     "metadata": {},
     "output_type": "display_data"
    }
   ],
   "source": [
    "system_dash(system).run_server()"
   ]
  },
  {
   "cell_type": "markdown",
   "id": "18c28411-c3f0-4ee5-8fbc-29dbffac83a2",
   "metadata": {},
   "source": [
    "Note that `system_dash(system).run_server()` cell will kick things off running the demo app, but the ouput below `system_dash(system).run_server()` will show 'refused to connect'.   That's okay. That means though it started things up and now we need to use the correct URL to open a web page in our browser with the corresponding Dash app running.\n",
    "\n",
    "You need to take the URL just above that cell and paste that in the address bar of a new browser page and hit return. (Or just click the link above the cell with `system_dash(system).run_server()` in it!) Following that action, the minimal demo app, large heading of the title 'Dash App from Binder which uses Jupyter Hub', will show up after first showing `Loading...` momentarily. You'll see the browser windo has the 'Dash' title with the icon.\n",
    "\n",
    "------"
   ]
  }
 ],
 "metadata": {
  "kernelspec": {
   "display_name": "Python 3 (ipykernel)",
   "language": "python",
   "name": "python3"
  },
  "language_info": {
   "codemirror_mode": {
    "name": "ipython",
    "version": 3
   },
   "file_extension": ".py",
   "mimetype": "text/x-python",
   "name": "python",
   "nbconvert_exporter": "python",
   "pygments_lexer": "ipython3",
   "version": "3.12.4"
  }
 },
 "nbformat": 4,
 "nbformat_minor": 5
}
